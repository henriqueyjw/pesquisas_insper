{
  "nbformat": 4,
  "nbformat_minor": 0,
  "metadata": {
    "colab": {
      "provenance": [],
      "authorship_tag": "ABX9TyPO3qqKEt1vsfc2KT98ST6j",
      "include_colab_link": true
    },
    "kernelspec": {
      "name": "python3",
      "display_name": "Python 3"
    },
    "language_info": {
      "name": "python"
    }
  },
  "cells": [
    {
      "cell_type": "markdown",
      "metadata": {
        "id": "view-in-github",
        "colab_type": "text"
      },
      "source": [
        "<a href=\"https://colab.research.google.com/github/henriqueyjw/pesquisas_insper/blob/main/teste_collab.ipynb\" target=\"_parent\"><img src=\"https://colab.research.google.com/assets/colab-badge.svg\" alt=\"Open In Colab\"/></a>"
      ]
    },
    {
      "cell_type": "code",
      "execution_count": null,
      "metadata": {
        "id": "t1IhdG35Iovu"
      },
      "outputs": [],
      "source": [
        "import pymupdf\n",
        "import os\n",
        "import numpy as np\n",
        "import pandas as pd\n",
        "import re\n",
        "from datetime import date\n",
        "from transformers import T5Tokenizer, T5ForConditionalGeneration\n",
        "\n",
        "def extract_text_from_pdf(pdf_path):\n",
        "    \"\"\"\n",
        "    Extracts text from a PDF file and prints the first `num_chars` characters.\n",
        "\n",
        "    Args:\n",
        "    pdf_path (str): Path to the PDF file.\n",
        "\n",
        "    Returns:\n",
        "    str: Extracted text from the PDF.\n",
        "    \"\"\"\n",
        "    # Open the PDF file\n",
        "    mypdf = pymupdf.open(pdf_path)\n",
        "    all_text = \"\"  # Initialize an empty string to store the extracted text\n",
        "\n",
        "    # Iterate through each page in the PDF\n",
        "    for page_num in range(mypdf.page_count):\n",
        "        page = mypdf[page_num]  # Get the page\n",
        "        text = page.get_text(\"text\")  # Extract text from the page\n",
        "        all_text += text  # Append the extracted text to the all_text string\n",
        "\n",
        "    return all_text  # Return the extracted text\n",
        "\n",
        "\n",
        "def sumarization(text):\n",
        "    model_checkpoint = \"stjiris/t5-portuguese-legal-summarization\"\n",
        "    t5_model = T5ForConditionalGeneration.from_pretrained(model_checkpoint)\n",
        "    t5_tokenizer = T5Tokenizer.from_pretrained(model_checkpoint)\n",
        "    preprocess_text = text\n",
        "    t5_prepared_Text = \"summarize: \"+preprocess_text\n",
        "    #print (\"original text preprocessed: \\n\", preprocess_text)\n",
        "\n",
        "    tokenized_text = t5_tokenizer.encode(t5_prepared_Text, return_tensors=\"pt\")\n",
        "\n",
        "    # summmarize\n",
        "    summary_ids = t5_model.generate(tokenized_text,\n",
        "                                        num_beams=4,\n",
        "                                        no_repeat_ngram_size=2,\n",
        "                                        min_length=512,\n",
        "                                        max_length=1024,\n",
        "                                        early_stopping=True)\n",
        "\n",
        "    output = t5_tokenizer.decode(summary_ids[0], skip_special_tokens=True)\n",
        "    return output\n",
        "\n",
        "\n",
        "num_processo = list()\n",
        "texto = list()\n",
        "resumo = list()\n",
        "for arquivo in os.listdir(\"decisoes_tjsp_hc\"):\n",
        "    if arquivo.endswith(\".pdf\"):\n",
        "        num_processo.append(arquivo[:25])\n",
        "        texto_pdf = extract_text_from_pdf(os.path.join(\"decisoes_tjsp_hc\", arquivo))\n",
        "        texto.append(texto_pdf)\n",
        "        resumo.append(sumarization(texto_pdf))\n",
        "\n",
        "df = pd.DataFrame({\"num_processo\": num_processo, \"texto\": texto})\n",
        "termos_interesse = {r'habeas\\scorpus|\\shc\\s': 'HC'}\n",
        "split_interesse = list()\n",
        "\n",
        "for _, row in df.iterrows():\n",
        "\n",
        "    if re.search(r'habeas\\scorpus.{10}|\\shc.{10}', row['texto'], re.IGNORECASE|re.MULTILINE):\n",
        "        match = re.findall(r'habeas\\scorpus.{10}|\\shc.{10}', row['texto'], re.IGNORECASE|re.MULTILINE|re.DOTALL)\n",
        "        # split_interesse.append(row['texto'][match.span(0)[0]:match.span(0)[1]+1000])\n",
        "        split_interesse.append(match)\n",
        "    else:\n",
        "        split_interesse.append(None)\n",
        "df['split_interesse'] = split_interesse\n",
        "\n",
        "df.to_excel(f\"decisoes_tjsp_hc_{date.today()}_split_interesse.xlsx\", index=False)"
      ]
    }
  ]
}